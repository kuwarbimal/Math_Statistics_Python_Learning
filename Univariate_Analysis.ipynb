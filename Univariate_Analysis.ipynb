{
  "nbformat": 4,
  "nbformat_minor": 0,
  "metadata": {
    "colab": {
      "name": "Univariate_Analysis.ipynb",
      "provenance": [],
      "authorship_tag": "ABX9TyPwaI8IAx+TUL9xEdzuK2GG",
      "include_colab_link": true
    },
    "kernelspec": {
      "name": "python3",
      "display_name": "Python 3"
    },
    "language_info": {
      "name": "python"
    }
  },
  "cells": [
    {
      "cell_type": "markdown",
      "metadata": {
        "id": "view-in-github",
        "colab_type": "text"
      },
      "source": [
        "<a href=\"https://colab.research.google.com/github/kuwarbimal/Math-Computer-Learning/blob/main/Univariate_Analysis.ipynb\" target=\"_parent\"><img src=\"https://colab.research.google.com/assets/colab-badge.svg\" alt=\"Open In Colab\"/></a>"
      ]
    },
    {
      "cell_type": "markdown",
      "source": [
        "## Univariate data analyses - NHANES case study\n",
        "\n",
        "Here we will demonstrate how to use Python and [Pandas](https://pandas.pydata.org/) to perform some basic analyses with univariate data, using the 2015-2016 wave of the [NHANES](https://www.cdc.gov/nchs/nhanes/index.htm) study to illustrate the techniques."
      ],
      "metadata": {
        "id": "BTa2DxakIDYq"
      }
    },
    {
      "cell_type": "markdown",
      "source": [
        "The following import statements make the libraries that we will need available.  Note that in a Jupyter notebook, you should generally use the `%matplotlib inline` directive, which would not be used when running a script outside of the Jupyter environment.\n"
      ],
      "metadata": {
        "id": "RJ6VHIoqITim"
      }
    },
    {
      "cell_type": "code",
      "source": [
        "%matplotlib inline\n",
        "import matplotlib.pyplot as plt\n",
        "import seaborn as sns\n",
        "import pandas as pd\n",
        "import numpy as np"
      ],
      "metadata": {
        "id": "iXfAGzyBIU3f"
      },
      "execution_count": 1,
      "outputs": []
    },
    {
      "cell_type": "markdown",
      "source": [
        "Next we will load the NHANES data from github"
      ],
      "metadata": {
        "id": "GrBaUeZbIaov"
      }
    },
    {
      "cell_type": "code",
      "source": [
        "da = pd.read_csv(\"https://raw.githubusercontent.com/rashida048/Datasets/master/nhanes_2015_2016.csv\")"
      ],
      "metadata": {
        "id": "WRQ7nN8PIjY5"
      },
      "execution_count": 2,
      "outputs": []
    },
    {
      "cell_type": "markdown",
      "source": [
        "### Frequency tables\n",
        "\n",
        "The [value_counts](https://pandas.pydata.org/pandas-docs/stable/generated/pandas.Series.value_counts.html) method can be used to determine the number of times that each distinct value of a variable occurs in a data set.  In statistical terms, this is the \"frequency distribution\" of the variable.  Below we show the frequency distribution of the [DMDEDUC2](https://wwwn.cdc.gov/Nchs/Nhanes/2015-2016/DEMO_I.htm#DMDEDUC2) variable, which is a variable that reflects a person's level of educational attainment.  The `value_counts` method produces a table with two columns.  The first column contains all distinct observed values for the variable.  The second column contains the number of times each of these values occurs.  Note that the table returned by `value_counts` is actually a Pandas data frame, so can be further processed using any Pandas methods for working with data frames.\n",
        "\n",
        "The numbers 1, 2, 3, 4, 5, 9 seen below are integer codes for the 6 possible non-missing values of the DMDEDUC2 variable.  The meaning of these codes is given in the NHANES codebook located [here](https://wwwn.cdc.gov/Nchs/Nhanes/2015-2016/DEMO_I.htm#DMDEDUC2), and will be discussed further below.  This table shows, for example, that 1621 people in the data file have DMDEDUC=4, which indicates that the person has completed some college, but has not graduated with a four-year degree."
      ],
      "metadata": {
        "id": "TXIuOWAsJAKn"
      }
    },
    {
      "cell_type": "code",
      "source": [
        "da.DMDEDUC2.value_counts()"
      ],
      "metadata": {
        "colab": {
          "base_uri": "https://localhost:8080/"
        },
        "id": "fK66PnAFKagy",
        "outputId": "25ead8bc-e22a-483c-94a2-553485877ebd"
      },
      "execution_count": 3,
      "outputs": [
        {
          "output_type": "execute_result",
          "data": {
            "text/plain": [
              "4.0    1621\n",
              "5.0    1366\n",
              "3.0    1186\n",
              "1.0     655\n",
              "2.0     643\n",
              "9.0       3\n",
              "Name: DMDEDUC2, dtype: int64"
            ]
          },
          "metadata": {},
          "execution_count": 3
        }
      ]
    },
    {
      "cell_type": "markdown",
      "source": [
        "Note that the value_counts method excludes missing values. We confirm this below by adding up the number of observations with a DMDEDUC2 value equal to 1, 2, 3, 4, 5, or 9 (there are 5474 such rows), and comparing this to the total number of rows in the data set, which is 5735. This tells us that there are 5735 - 5474 = 261 missing values for this variable (other variables may have different numbers of missing values)."
      ],
      "metadata": {
        "id": "vMhFFPsUKbQI"
      }
    },
    {
      "cell_type": "code",
      "source": [
        "print(da.DMDEDUC2.value_counts().sum())\n",
        "print(1621 + 1366 + 1186 + 655 + 643 + 3) # Manually sum the frequencies\n",
        "print(da.shape)"
      ],
      "metadata": {
        "colab": {
          "base_uri": "https://localhost:8080/"
        },
        "id": "WYKrInaQKnXH",
        "outputId": "58eb941c-f3a3-4131-e0eb-e807fbe57c60"
      },
      "execution_count": 4,
      "outputs": [
        {
          "output_type": "stream",
          "name": "stdout",
          "text": [
            "5474\n",
            "5474\n",
            "(5735, 28)\n"
          ]
        }
      ]
    },
    {
      "cell_type": "markdown",
      "source": [
        "Another way to obtain this result is to locate all the null (missing) values in the data set using the [isnull](https://pandas.pydata.org/pandas-docs/stable/generated/pandas.isnull.html) Pandas function, and count the number of such locations."
      ],
      "metadata": {
        "id": "A6rx9K7LKoBa"
      }
    },
    {
      "cell_type": "code",
      "source": [
        "pd.isnull(da.DMDEDUC2).sum()"
      ],
      "metadata": {
        "colab": {
          "base_uri": "https://localhost:8080/"
        },
        "id": "GZGnoJ_4K3kg",
        "outputId": "8a30e101-ebe2-439f-8a7e-56e7ea05c82e"
      },
      "execution_count": 5,
      "outputs": [
        {
          "output_type": "execute_result",
          "data": {
            "text/plain": [
              "261"
            ]
          },
          "metadata": {},
          "execution_count": 5
        }
      ]
    },
    {
      "cell_type": "markdown",
      "source": [
        "In some cases it is useful to [replace](https://pandas.pydata.org/pandas-docs/stable/generated/pandas.Series.replace.html) integer codes with a text label that reflects the code's meaning.  Below we create a new variable called 'DMDEDUC2x' that is recoded with text labels, then we generate its frequency distribution."
      ],
      "metadata": {
        "id": "2mGC7UG6K4cc"
      }
    },
    {
      "cell_type": "code",
      "source": [
        "da[\"DMDEDUC2x\"] = da.DMDEDUC2.replace({1: \"<9\", 2: \"9-11\", 3: \"HS/GED\", 4: \"Some college/AA\", 5: \"College\", \n",
        "                                       7: \"Refused\", 9: \"Don't know\"})\n",
        "da.DMDEDUC2x.value_counts()"
      ],
      "metadata": {
        "colab": {
          "base_uri": "https://localhost:8080/"
        },
        "id": "8hWppedBLW3G",
        "outputId": "ac322b69-a346-4638-f3d0-0a8a4ac00f3a"
      },
      "execution_count": 6,
      "outputs": [
        {
          "output_type": "execute_result",
          "data": {
            "text/plain": [
              "Some college/AA    1621\n",
              "College            1366\n",
              "HS/GED             1186\n",
              "<9                  655\n",
              "9-11                643\n",
              "Don't know            3\n",
              "Name: DMDEDUC2x, dtype: int64"
            ]
          },
          "metadata": {},
          "execution_count": 6
        }
      ]
    },
    {
      "cell_type": "markdown",
      "source": [
        "We will also want to have a relabeled version of the gender variable, so we will construct that now as well. We will follow a convention here of appending an 'x' to the end of a categorical variable's name when it has been recoded from numeric to string (text) values."
      ],
      "metadata": {
        "id": "HS1eJ6OFLXnR"
      }
    },
    {
      "cell_type": "code",
      "source": [
        "da[\"RIAGENDRx\"] = da.RIAGENDR.replace({1: \"Male\", 2: \"Female\"})"
      ],
      "metadata": {
        "id": "HQnVXk_2Lo6q"
      },
      "execution_count": 7,
      "outputs": []
    },
    {
      "cell_type": "markdown",
      "source": [
        "For many purposes it is more relevant to consider the proportion of the sample with each of the possible category values, rather than the number of people in each category. We can do this as follows:"
      ],
      "metadata": {
        "id": "55QjABcbLpjf"
      }
    },
    {
      "cell_type": "code",
      "source": [
        "x = da.DMDEDUC2x.value_counts()  # x is just a name to hold this value temporarily\n",
        "x / x.sum()"
      ],
      "metadata": {
        "colab": {
          "base_uri": "https://localhost:8080/"
        },
        "id": "9A4bMsyNLw3o",
        "outputId": "e09495ca-1401-46f0-9eb2-ecf3e83ac496"
      },
      "execution_count": 8,
      "outputs": [
        {
          "output_type": "execute_result",
          "data": {
            "text/plain": [
              "Some college/AA    0.296127\n",
              "College            0.249543\n",
              "HS/GED             0.216661\n",
              "<9                 0.119657\n",
              "9-11               0.117464\n",
              "Don't know         0.000548\n",
              "Name: DMDEDUC2x, dtype: float64"
            ]
          },
          "metadata": {},
          "execution_count": 8
        }
      ]
    },
    {
      "cell_type": "markdown",
      "source": [
        "In some cases we will want to treat the missing response category as another category of observed response, rather than ignoring it when creating summaries.  Below we create a new category called \"Missing\", and assign all missing values to it usig [fillna](https://pandas.pydata.org/pandas-docs/stable/missing_data.html#filling-missing-values-fillna).  Then we recalculate the frequency distribution.  We see that 4.6% of the responses are missing."
      ],
      "metadata": {
        "id": "Jn0kY2_UL_Du"
      }
    },
    {
      "cell_type": "code",
      "source": [
        "da[\"DMDEDUC2x\"] = da.DMDEDUC2x.fillna(\"Missing\")\n",
        "x = da.DMDEDUC2x.value_counts()\n",
        "x / x.sum()\n"
      ],
      "metadata": {
        "colab": {
          "base_uri": "https://localhost:8080/"
        },
        "id": "sJz6fnBBMiQk",
        "outputId": "e079d199-7b21-4972-c4f2-ef343a148273"
      },
      "execution_count": 9,
      "outputs": [
        {
          "output_type": "execute_result",
          "data": {
            "text/plain": [
              "Some college/AA    0.282650\n",
              "College            0.238187\n",
              "HS/GED             0.206800\n",
              "<9                 0.114211\n",
              "9-11               0.112119\n",
              "Missing            0.045510\n",
              "Don't know         0.000523\n",
              "Name: DMDEDUC2x, dtype: float64"
            ]
          },
          "metadata": {},
          "execution_count": 9
        }
      ]
    },
    {
      "cell_type": "code",
      "source": [
        ""
      ],
      "metadata": {
        "id": "Tlclm_CUNCCc"
      },
      "execution_count": null,
      "outputs": []
    },
    {
      "cell_type": "markdown",
      "source": [
        "### Numerical summaries\n",
        "\n",
        "A quick way to get a set of numerical summaries for a quantitative variable is with the [describe](https://pandas.pydata.org/pandas-docs/stable/basics.html#summarizing-data-describe) data frame method.  Below we demonstrate how to do this using the body weight variable ([BMXWT](https://wwwn.cdc.gov/Nchs/Nhanes/2015-2016/BMX_I.htm#BMXWT)).  As with many surveys, some data values are missing, so we explicitly drop the missing cases using the [dropna](https://pandas.pydata.org/pandas-docs/stable/missing_data.html#dropping-axis-labels-with-missing-data-dropna) method before generating the summaries."
      ],
      "metadata": {
        "id": "pCxPnUClMmix"
      }
    },
    {
      "cell_type": "code",
      "source": [
        "da.BMXWT.dropna().describe()"
      ],
      "metadata": {
        "colab": {
          "base_uri": "https://localhost:8080/"
        },
        "id": "XDv5NcdSNDKy",
        "outputId": "8feb971d-690c-4023-bbd9-fc1b31d4f865"
      },
      "execution_count": 10,
      "outputs": [
        {
          "output_type": "execute_result",
          "data": {
            "text/plain": [
              "count    5666.000000\n",
              "mean       81.342676\n",
              "std        21.764409\n",
              "min        32.400000\n",
              "25%        65.900000\n",
              "50%        78.200000\n",
              "75%        92.700000\n",
              "max       198.900000\n",
              "Name: BMXWT, dtype: float64"
            ]
          },
          "metadata": {},
          "execution_count": 10
        }
      ]
    },
    {
      "cell_type": "markdown",
      "source": [
        "It's also possible to calculate individual summary statistics from one column of a data set. This can be done using Pandas methods, or with numpy functions:"
      ],
      "metadata": {
        "id": "I2mYGeYLNDzJ"
      }
    },
    {
      "cell_type": "code",
      "source": [
        "x = da.BMXWT.dropna()  # Extract all non-missing values of BMXWT into a variable called 'x'\n",
        "print(x.mean()) # Pandas method\n",
        "print(np.mean(x)) # Numpy function\n",
        "\n",
        "print(x.median())\n",
        "print(np.percentile(x, 50))  # 50th percentile, same as the median\n",
        "print(np.percentile(x, 75))  # 75th percentile\n",
        "print(x.quantile(0.75)) # Pandas method for quantiles, equivalent to 75th percentile"
      ],
      "metadata": {
        "colab": {
          "base_uri": "https://localhost:8080/"
        },
        "id": "j0o28QNJNLIT",
        "outputId": "b5f8b7d7-e261-4ebb-8016-671f1954f7b6"
      },
      "execution_count": 11,
      "outputs": [
        {
          "output_type": "stream",
          "name": "stdout",
          "text": [
            "81.34267560889509\n",
            "81.34267560889509\n",
            "78.2\n",
            "78.2\n",
            "92.7\n",
            "92.7\n"
          ]
        }
      ]
    },
    {
      "cell_type": "markdown",
      "source": [
        "Next we look at frequencies for a systolic blood pressure measurement (BPXSY1). \"BPX\" here is the NHANES prefix for blood pressure measurements, \"SY\" stands for \"systolic\" blood pressure (blood pressure at the peak of a heartbeat cycle), and \"1\" indicates that this is the first of three systolic blood presure measurements taken on a subject.\n",
        "\n",
        "A person is generally considered to have pre-hypertension when their systolic blood pressure is between 120 and 139, or their diastolic blood pressure is between 80 and 89. Considering only the systolic condition, we can calculate the proprotion of the NHANES sample who would be considered to have pre-hypertension."
      ],
      "metadata": {
        "id": "Telmds7tNLr7"
      }
    },
    {
      "cell_type": "code",
      "source": [
        "np.mean((da.BPXSY1 >= 120) & (da.BPXSY2 <= 139))  # \"&\" means \"and\""
      ],
      "metadata": {
        "colab": {
          "base_uri": "https://localhost:8080/"
        },
        "id": "L_ghIA0aNSme",
        "outputId": "9a83ecad-9d49-4aa7-f5bf-792b136a69a3"
      },
      "execution_count": 12,
      "outputs": [
        {
          "output_type": "execute_result",
          "data": {
            "text/plain": [
              "0.3741935483870968"
            ]
          },
          "metadata": {},
          "execution_count": 12
        }
      ]
    },
    {
      "cell_type": "markdown",
      "source": [
        "Next we calculate the propotion of NHANES subjects who are pre-hypertensive based on diastolic blood pressure."
      ],
      "metadata": {
        "id": "rol5m5etNTYi"
      }
    },
    {
      "cell_type": "code",
      "source": [
        "np.mean((da.BPXDI1 >= 80) & (da.BPXDI2 <= 89))"
      ],
      "metadata": {
        "colab": {
          "base_uri": "https://localhost:8080/"
        },
        "id": "UeQQvK45NZVo",
        "outputId": "a7662ce9-431e-4dab-f45b-6d2fd5dc89d0"
      },
      "execution_count": 13,
      "outputs": [
        {
          "output_type": "execute_result",
          "data": {
            "text/plain": [
              "0.14803836094158676"
            ]
          },
          "metadata": {},
          "execution_count": 13
        }
      ]
    },
    {
      "cell_type": "markdown",
      "source": [
        "Finally we calculate the proportion of NHANES subjects who are pre-hypertensive based on either systolic or diastolic blood pressure.  Since some people are pre-hypertensive under both criteria, the proportion below is less than the sum of the two proportions calculated above.\n",
        "\n",
        "Since the combined systolic and diastolic condition for pre-hypertension is somewhat complex, below we construct temporary variables 'a' and 'b' that hold the systolic and diastolic pre-hypertensive status separately, then combine them with a \"logical or\" to obtain the final status for each subject."
      ],
      "metadata": {
        "id": "3F70ZrXDNZ4n"
      }
    },
    {
      "cell_type": "code",
      "source": [
        "a = (da.BPXSY1 >= 120) & (da.BPXSY2 <= 139)\n",
        "b = (da.BPXDI1 >= 80) & (da.BPXDI2 <= 89)\n",
        "print(np.mean(a | b))  # \"|\" means \"or\""
      ],
      "metadata": {
        "colab": {
          "base_uri": "https://localhost:8080/"
        },
        "id": "NNTDwdLtNg9w",
        "outputId": "380d2fec-ca12-4888-c6ac-b7e0d284375d"
      },
      "execution_count": 14,
      "outputs": [
        {
          "output_type": "stream",
          "name": "stdout",
          "text": [
            "0.43975588491717527\n"
          ]
        }
      ]
    },
    {
      "cell_type": "markdown",
      "source": [
        "Blood pressure measurements are affected by a phenomenon called \"white coat anxiety\", in which a subject's bood pressure may be slightly elevated if they are nervous when interacting with health care providers.  Typically this effect subsides if the blood pressure is measured several times in sequence.  In NHANES, both systolic and diastolic blood pressure are meausred three times for each subject (e.g. [BPXSY2](https://wwwn.cdc.gov/Nchs/Nhanes/2015-2016/BPX_I.htm#BPXSY2) is the second measurement of systolic blood pressure).  We can calculate the extent to which white coat anxiety is present in the NHANES data by looking a the mean difference between the first two systolic or diastolic blood pressure measurements."
      ],
      "metadata": {
        "id": "hR_R6vEvNhfe"
      }
    },
    {
      "cell_type": "code",
      "source": [
        "print(np.mean(da.BPXSY1 - da.BPXSY2))\n",
        "print(np.mean(da.BPXDI1 - da.BPXDI2))"
      ],
      "metadata": {
        "colab": {
          "base_uri": "https://localhost:8080/"
        },
        "id": "33v-oZOpNn4z",
        "outputId": "4e2bd3f7-636c-4821-ef70-1b2fd288cd40"
      },
      "execution_count": 15,
      "outputs": [
        {
          "output_type": "stream",
          "name": "stdout",
          "text": [
            "0.6749860309182343\n",
            "0.3490407897187558\n"
          ]
        }
      ]
    },
    {
      "cell_type": "markdown",
      "source": [
        "### Graphical summaries\n",
        "\n",
        "Quantitative variables can be effectively summarized graphically.  Below we see the distribution of body weight (in Kg), shown as a histogram.  It is evidently right-skewed."
      ],
      "metadata": {
        "id": "tlwM5cCSNoeY"
      }
    },
    {
      "cell_type": "code",
      "source": [
        "sns.distplot(da.BMXWT.dropna())"
      ],
      "metadata": {
        "colab": {
          "base_uri": "https://localhost:8080/",
          "height": 353
        },
        "id": "a-b4ub6VRrkj",
        "outputId": "555d1e62-e2dc-4d93-93c2-c5b6a2244cb7"
      },
      "execution_count": 16,
      "outputs": [
        {
          "output_type": "stream",
          "name": "stderr",
          "text": [
            "/usr/local/lib/python3.7/dist-packages/seaborn/distributions.py:2619: FutureWarning: `distplot` is a deprecated function and will be removed in a future version. Please adapt your code to use either `displot` (a figure-level function with similar flexibility) or `histplot` (an axes-level function for histograms).\n",
            "  warnings.warn(msg, FutureWarning)\n"
          ]
        },
        {
          "output_type": "execute_result",
          "data": {
            "text/plain": [
              "<matplotlib.axes._subplots.AxesSubplot at 0x7f74db6da890>"
            ]
          },
          "metadata": {},
          "execution_count": 16
        },
        {
          "output_type": "display_data",
          "data": {
            "text/plain": [
              "<Figure size 432x288 with 1 Axes>"
            ],
            "image/png": "[encoded data removed]"
          },
          "metadata": {
            "needs_background": "light"
          }
        }
      ]
    },
    {
      "cell_type": "markdown",
      "source": [
        "Next we look at the histogram of systolic blood pressure measurements. You can see that there is a tendency for the measurements to be rounded to the nearest 5 or 10 units."
      ],
      "metadata": {
        "id": "rE8LzZcwRsJR"
      }
    },
    {
      "cell_type": "code",
      "source": [
        "sns.distplot(da.BPXSY1.dropna())"
      ],
      "metadata": {
        "colab": {
          "base_uri": "https://localhost:8080/",
          "height": 353
        },
        "id": "cqZ9sg33R2ha",
        "outputId": "b8d5c613-9dc6-48c7-9618-fb3ae9719147"
      },
      "execution_count": 17,
      "outputs": [
        {
          "output_type": "stream",
          "name": "stderr",
          "text": [
            "/usr/local/lib/python3.7/dist-packages/seaborn/distributions.py:2619: FutureWarning: `distplot` is a deprecated function and will be removed in a future version. Please adapt your code to use either `displot` (a figure-level function with similar flexibility) or `histplot` (an axes-level function for histograms).\n",
            "  warnings.warn(msg, FutureWarning)\n"
          ]
        },
        {
          "output_type": "execute_result",
          "data": {
            "text/plain": [
              "<matplotlib.axes._subplots.AxesSubplot at 0x7f74dc4876d0>"
            ]
          },
          "metadata": {},
          "execution_count": 17
        },
        {
          "output_type": "display_data",
          "data": {
            "text/plain": [
              "<Figure size 432x288 with 1 Axes>"
            ],
            "image/png": "[encoded data removed]"
          },
          "metadata": {
            "needs_background": "light"
          }
        }
      ]
    },
    {
      "cell_type": "markdown",
      "source": [
        "To compare several distributions, we can use side-by-side boxplots. Below we compare the distributions of the first and second systolic blood pressure measurements (BPXSY1, BPXSY2), and the first and second diastolic blood pressure measurements (BPXDI1, BPXDI2). As expected, diastolic measurements are substantially lower than systolic measurements. Above we saw that the second blood pressure reading on a subject tended on average to be slightly lower than the first measurement. This difference was less than 1 mm/Hg, so is not visible in the \"marginal\" distributions shown below."
      ],
      "metadata": {
        "id": "IwXTDU3XR-Lw"
      }
    },
    {
      "cell_type": "code",
      "source": [
        "bp = sns.boxplot(data=da.loc[:, [\"BPXSY1\", \"BPXSY2\", \"BPXDI1\", \"BPXDI2\"]])\n",
        "_ = bp.set_ylabel(\"Blood pressure in mm/Hg\")"
      ],
      "metadata": {
        "colab": {
          "base_uri": "https://localhost:8080/",
          "height": 265
        },
        "id": "6jH-b9UVSBjY",
        "outputId": "dae0b642-8c0b-4bac-f6a3-158c09edb942"
      },
      "execution_count": 18,
      "outputs": [
        {
          "output_type": "display_data",
          "data": {
            "text/plain": [
              "<Figure size 432x288 with 1 Axes>"
            ],
            "image/png": "[encoded data removed]"
          },
          "metadata": {
            "needs_background": "light"
          }
        }
      ]
    },
    {
      "cell_type": "markdown",
      "source": [
        "### Stratification\n",
        "\n",
        "One of the most effective ways to get more information out of a dataset is to divide it into smaller, more uniform subsets, and analyze each of these \"strata\" on its own.  We can then formally or informally compare the findings in the different strata.  When working with human subjects, it is very common to stratify on demographic factors such as age, sex, and race.\n",
        "\n",
        "To illustrate this technique, consider blood pressure, which is a value that tends to increase with age.  To see this trend in the NHANES data, we can [partition](https://pandas.pydata.org/pandas-docs/stable/generated/pandas.cut.html) the data into age strata, and construct side-by-side boxplots of the systolic blood pressure (SBP) distribution within each stratum.  Since age is a quantitative variable, we need to create a series of \"bins\" of similar SBP values in order to stratify the data.  Each box in the figure below is a summary of univariate data within a specific population stratum (here defined by age)."
      ],
      "metadata": {
        "id": "JLnxghicSHIY"
      }
    },
    {
      "cell_type": "code",
      "source": [
        "da[\"agegrp\"] = pd.cut(da.RIDAGEYR, [18, 30, 40, 50, 60, 70, 80]) # Create age strata based on these cut points\n",
        "plt.figure(figsize=(12, 5))  # Make the figure wider than default (12cm wide by 5cm tall)\n",
        "sns.boxplot(x=\"agegrp\", y=\"BPXSY1\", data=da)  # Make boxplot of BPXSY1 stratified by age group"
      ],
      "metadata": {
        "colab": {
          "base_uri": "https://localhost:8080/",
          "height": 352
        },
        "id": "3wKhoakRSM9a",
        "outputId": "14a68f70-fcb8-439f-d689-425cb9e6b291"
      },
      "execution_count": 19,
      "outputs": [
        {
          "output_type": "execute_result",
          "data": {
            "text/plain": [
              "<matplotlib.axes._subplots.AxesSubplot at 0x7f74d8f51350>"
            ]
          },
          "metadata": {},
          "execution_count": 19
        },
        {
          "output_type": "display_data",
          "data": {
            "text/plain": [
              "<Figure size 864x360 with 1 Axes>"
            ],
            "image/png": "[encoded data removed]"
          },
          "metadata": {
            "needs_background": "light"
          }
        }
      ]
    },
    {
      "cell_type": "markdown",
      "source": [
        "Taking this a step further, it is also the case that blood pressure tends to differ between women and men. While we could simply make two side-by-side boxplots to illustrate this contrast, it would be a bit odd to ignore age after already having established that it is strongly associated with blood pressure. Therefore, we will doubly stratify the data by gender and age.\n",
        "\n",
        "We see from the figure below that within each gender, older people tend to have higher blood pressure than younger people. However within an age band, the relationship between gender and systolic blood pressure is somewhat complex -- in younger people, men have substantially higher blood pressures than women of the same age. However for people older than 50, this relationship becomes much weaker, and among people older than 70 it appears to reverse. It is also notable that the variation of these distributions, reflected in the height of each box in the boxplot, increases with age."
      ],
      "metadata": {
        "id": "z_h70OBRSVV0"
      }
    },
    {
      "cell_type": "code",
      "source": [
        "da[\"agegrp\"] = pd.cut(da.RIDAGEYR, [18, 30, 40, 50, 60, 70, 80])\n",
        "plt.figure(figsize=(12, 5))\n",
        "sns.boxplot(x=\"agegrp\", y=\"BPXSY1\", hue=\"RIAGENDRx\", data=da)"
      ],
      "metadata": {
        "colab": {
          "base_uri": "https://localhost:8080/",
          "height": 352
        },
        "id": "pjcndsu6SXei",
        "outputId": "8ec5625c-39db-4154-fcb5-ca3de1bfd8a0"
      },
      "execution_count": 20,
      "outputs": [
        {
          "output_type": "execute_result",
          "data": {
            "text/plain": [
              "<matplotlib.axes._subplots.AxesSubplot at 0x7f74db5cb0d0>"
            ]
          },
          "metadata": {},
          "execution_count": 20
        },
        {
          "output_type": "display_data",
          "data": {
            "text/plain": [
              "<Figure size 864x360 with 1 Axes>"
            ],
            "image/png": "[encoded data removed]"
          },
          "metadata": {
            "needs_background": "light"
          }
        }
      ]
    },
    {
      "cell_type": "markdown",
      "source": [
        "When stratifying on two factors (here age and gender), we can group the boxes first by age, and within age bands by gender, as above, or we can do the opposite -- group first by gender, and then within gender group by age bands. Each approach highlights a different aspect of the data."
      ],
      "metadata": {
        "id": "CNtrP7rkSeVX"
      }
    },
    {
      "cell_type": "code",
      "source": [
        "da[\"agegrp\"] = pd.cut(da.RIDAGEYR, [18, 30, 40, 50, 60, 70, 80])\n",
        "plt.figure(figsize=(12, 5))\n",
        "sns.boxplot(x=\"RIAGENDRx\", y=\"BPXSY1\", hue=\"agegrp\", data=da)"
      ],
      "metadata": {
        "colab": {
          "base_uri": "https://localhost:8080/",
          "height": 352
        },
        "id": "Cuo_t_PXSl4F",
        "outputId": "c88ca024-98d8-4b70-9f5b-aef89c640cbc"
      },
      "execution_count": 21,
      "outputs": [
        {
          "output_type": "execute_result",
          "data": {
            "text/plain": [
              "<matplotlib.axes._subplots.AxesSubplot at 0x7f74d8efb790>"
            ]
          },
          "metadata": {},
          "execution_count": 21
        },
        {
          "output_type": "display_data",
          "data": {
            "text/plain": [
              "<Figure size 864x360 with 1 Axes>"
            ],
            "image/png": "[encoded data removed]"
          },
          "metadata": {
            "needs_background": "light"
          }
        }
      ]
    },
    {
      "cell_type": "markdown",
      "source": [
        "Stratification can also be useful when working with categorical variables.  Below we look at the frequency distribution of educational attainment (\"DMDEDUC2\") within 10-year age bands.  While \"some college\" is the most common response in all age bands, up to around age 60 the second most common response is \"college\" (i.e. the person graduated from college with a four-year degree). However for people over 50, there are as many or more people with only high school or general equivalency diplomas (HS/GED) than there are college graduates. \n",
        "\n",
        "**Note on causality and confounding:** An important role of statistics is to aid researchers in identifying causes underlying observed differences.  Here we have seen differences in both blood pressure and educational attainment based on age.  It is plausible that aging directly causes blood pressure to increase.  But in the case of educational attainment, this is actually a \"birth cohort effect\".  NHANES is a cross sectional survey (all data for one wave were collected at a single point in time). People who were, say, 65 in 2015 (when these data were collected), were college-aged around 1970, while people who were in their 20's in 2015 were college-aged in around 2010 or later.  Over the last few decades, it has become much more common for people to at least begin a college degree than it was in the past.  Therefore, younger people as a group have higher educational attainment than older people as a group.  As these young people grow older, the cross sectional relationship between age and educational attainment will change."
      ],
      "metadata": {
        "id": "78oa4ibjStga"
      }
    },
    {
      "cell_type": "code",
      "source": [
        "da.groupby(\"agegrp\")[\"DMDEDUC2x\"].value_counts()"
      ],
      "metadata": {
        "colab": {
          "base_uri": "https://localhost:8080/"
        },
        "id": "MbiR3b_4SwyM",
        "outputId": "91fd4cb9-bd6b-4942-a308-4f118d574c9f"
      },
      "execution_count": 22,
      "outputs": [
        {
          "output_type": "execute_result",
          "data": {
            "text/plain": [
              "agegrp    DMDEDUC2x      \n",
              "(18, 30]  Some college/AA    364\n",
              "          College            278\n",
              "          HS/GED             237\n",
              "          Missing            128\n",
              "          9-11                99\n",
              "          <9                  47\n",
              "(30, 40]  Some college/AA    282\n",
              "          College            264\n",
              "          HS/GED             182\n",
              "          9-11               111\n",
              "          <9                  93\n",
              "(40, 50]  Some college/AA    262\n",
              "          College            260\n",
              "          HS/GED             171\n",
              "          9-11               112\n",
              "          <9                  98\n",
              "(50, 60]  Some college/AA    258\n",
              "          College            220\n",
              "          HS/GED             220\n",
              "          9-11               122\n",
              "          <9                 104\n",
              "(60, 70]  Some college/AA    238\n",
              "          HS/GED             192\n",
              "          College            188\n",
              "          <9                 149\n",
              "          9-11               111\n",
              "(70, 80]  Some college/AA    217\n",
              "          HS/GED             184\n",
              "          <9                 164\n",
              "          College            156\n",
              "          9-11                88\n",
              "          Don't know           3\n",
              "Name: DMDEDUC2x, dtype: int64"
            ]
          },
          "metadata": {},
          "execution_count": 22
        }
      ]
    },
    {
      "cell_type": "markdown",
      "source": [
        "We can also stratify jointly by age and gender to explore how educational attainment varies by both of these factors simultaneously.  In doing this, it is easier to interpret the results if we [pivot](https://pandas.pydata.org/pandas-docs/stable/reshaping.html#reshaping-by-stacking-and-unstacking) the education levels into the columns, and normalize the counts so that they sum to 1.  After doing this, the results can be interpreted as proportions or probabilities.  One notable observation from this table is that for people up to age around 60, women are more likely to have graduated from college than men, but for people over aged 60, this relationship reverses."
      ],
      "metadata": {
        "id": "QylrAp9DS4Zf"
      }
    },
    {
      "cell_type": "code",
      "source": [
        "dx = da.loc[~da.DMDEDUC2x.isin([\"Don't know\", \"Missing\"]), :]  # Eliminate rare/missing values\n",
        "dx = dx.groupby([\"agegrp\", \"RIAGENDRx\"])[\"DMDEDUC2x\"]\n",
        "dx = dx.value_counts()\n",
        "dx = dx.unstack() # Restructure the results from 'long' to 'wide'\n",
        "dx = dx.apply(lambda x: x/x.sum(), axis=1) # Normalize within each stratum to get proportions\n",
        "print(dx.to_string(float_format=\"%.3f\"))  # Limit display to 3 decimal places"
      ],
      "metadata": {
        "colab": {
          "base_uri": "https://localhost:8080/"
        },
        "id": "--dZT9j9S-kF",
        "outputId": "2865808d-cdce-4c04-a092-b933c975d727"
      },
      "execution_count": 23,
      "outputs": [
        {
          "output_type": "stream",
          "name": "stdout",
          "text": [
            "DMDEDUC2x           9-11    <9  College  HS/GED  Some college/AA\n",
            "agegrp   RIAGENDRx                                              \n",
            "(18, 30] Female    0.080 0.049    0.282   0.215            0.374\n",
            "         Male      0.117 0.042    0.258   0.250            0.333\n",
            "(30, 40] Female    0.089 0.097    0.314   0.165            0.335\n",
            "         Male      0.151 0.103    0.251   0.227            0.269\n",
            "(40, 50] Female    0.110 0.106    0.299   0.173            0.313\n",
            "         Male      0.142 0.112    0.274   0.209            0.262\n",
            "(50, 60] Female    0.117 0.102    0.245   0.234            0.302\n",
            "         Male      0.148 0.123    0.231   0.242            0.256\n",
            "(60, 70] Female    0.118 0.188    0.195   0.206            0.293\n",
            "         Male      0.135 0.151    0.233   0.231            0.249\n",
            "(70, 80] Female    0.105 0.225    0.149   0.240            0.281\n",
            "         Male      0.113 0.180    0.237   0.215            0.255\n"
          ]
        }
      ]
    }
  ]
}